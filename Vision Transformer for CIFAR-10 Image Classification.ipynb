{
 "cells": [
  {
   "cell_type": "code",
   "execution_count": 1,
   "metadata": {
    "id": "qAeKg3rlMpwj"
   },
   "outputs": [],
   "source": [
    "import numpy as np\n",
    "import matplotlib.pyplot as plt\n",
    "import pandas as pd\n",
    "import tensorflow as tf\n",
    "from tensorflow import keras\n",
    "from tensorflow.keras import layers\n"
   ]
  },
  {
   "cell_type": "code",
   "execution_count": 2,
   "metadata": {
    "colab": {
     "base_uri": "https://localhost:8080/"
    },
    "id": "H5r9_8LFNA3j",
    "outputId": "cb0452f4-7613-4f0f-f532-bd16f3d6754e"
   },
   "outputs": [
    {
     "name": "stdout",
     "output_type": "stream",
     "text": [
      "Downloading data from https://www.cs.toronto.edu/~kriz/cifar-10-python.tar.gz\n",
      "\u001b[1m170498071/170498071\u001b[0m \u001b[32m━━━━━━━━━━━━━━━━━━━━\u001b[0m\u001b[37m\u001b[0m \u001b[1m4s\u001b[0m 0us/step\n",
      "X_train_shape : (50000, 32, 32, 3)  ----   Y_train_shape : (50000, 1)\n",
      "X_test_shape : (10000, 32, 32, 3)  ----   Y_test_shape : (10000, 1)\n"
     ]
    }
   ],
   "source": [
    "num_classes = 10\n",
    "input_shape = (32 , 32 , 3)\n",
    "\n",
    "(x_train , y_train) , (x_test , y_test) = keras.datasets.cifar10.load_data()\n",
    "\n",
    "print(f\"X_train_shape : {x_train.shape}  ----   Y_train_shape : {y_train.shape}\")\n",
    "print(f\"X_test_shape : {x_test.shape}  ----   Y_test_shape : {y_test.shape}\")"
   ]
  },
  {
   "cell_type": "code",
   "execution_count": 3,
   "metadata": {
    "id": "-hwynzPGNGC-"
   },
   "outputs": [],
   "source": [
    "learning_rate = 0.001\n",
    "weight_decay = 0.0001\n",
    "batch_size = 256\n",
    "num_epochs = 40\n",
    "image_size = 72\n",
    "patch_size = 6\n",
    "num_heads = 4\n",
    "num_patches = (image_size // patch_size)**2\n",
    "projection_dim = 64\n",
    "transformer_units = [\n",
    "    projection_dim * 2 ,\n",
    "    projection_dim\n",
    "]\n",
    "\n",
    "transformer_layers = 8\n",
    "mlp_head_units = [2048 , 1024]"
   ]
  },
  {
   "cell_type": "code",
   "execution_count": 4,
   "metadata": {
    "id": "mQb4AU9oNJOk"
   },
   "outputs": [],
   "source": [
    "data_augmentation = keras.Sequential([\n",
    "    layers.Normalization() ,\n",
    "    layers.Resizing(image_size , image_size) ,\n",
    "    layers.RandomFlip(\"horizontal\") ,\n",
    "    layers.RandomRotation(factor = 0.02) ,\n",
    "    layers.RandomZoom(\n",
    "        height_factor = 0.2 , width_factor = 0.2\n",
    "    )] ,\n",
    "    name = \"data_augmentation\"\n",
    ")\n",
    "\n",
    "data_augmentation.layers[0].adapt(x_train)"
   ]
  },
  {
   "cell_type": "code",
   "execution_count": 5,
   "metadata": {
    "id": "RQ22kYfkNZdU"
   },
   "outputs": [],
   "source": [
    "def mlp(x , hidden_units , dropout_rate = 0.0):\n",
    "    for units in hidden_units:\n",
    "        x = layers.Dense(units , activation = tf.nn.gelu)(x)\n",
    "        x = layers.Dropout(dropout_rate)(x)\n",
    "    return x"
   ]
  },
  {
   "cell_type": "code",
   "execution_count": 6,
   "metadata": {
    "id": "6aLdubpNNbrt"
   },
   "outputs": [],
   "source": [
    "class Patches(layers.Layer):\n",
    "    def __init__(self, patch_size):\n",
    "        super(Patches, self).__init__()\n",
    "        self.patch_size = patch_size\n",
    "\n",
    "    def call(self, images):\n",
    "        batch_size = tf.shape(images)[0]\n",
    "        patches = tf.image.extract_patches(\n",
    "            images=images,\n",
    "            sizes=[1, self.patch_size, self.patch_size, 1],\n",
    "            strides=[1, self.patch_size, self.patch_size, 1],\n",
    "            rates=[1, 1, 1, 1],\n",
    "            padding=\"VALID\"\n",
    "        )\n",
    "        patch_dims = patches.shape[-1]\n",
    "        patches = tf.reshape(patches, [batch_size, -1, patch_dims])\n",
    "        return patches"
   ]
  },
  {
   "cell_type": "code",
   "execution_count": 7,
   "metadata": {
    "colab": {
     "base_uri": "https://localhost:8080/",
     "height": 742
    },
    "id": "VLjXsqAONer5",
    "outputId": "c9881fef-2687-4f15-e5dd-40c18bf083ec"
   },
   "outputs": [
    {
     "name": "stdout",
     "output_type": "stream",
     "text": [
      "Image size: 72 x 72\n",
      "Patch size: 6 x 6\n",
      "Patches per image: 144\n",
      "Elements per patch: 108\n"
     ]
    },
    {
     "data": {
      "image/png": "[encoded data removed]",
      "text/plain": [
       "<Figure size 400x400 with 1 Axes>"
      ]
     },
     "metadata": {},
     "output_type": "display_data"
    },
    {
     "data": {
      "image/png": "[encoded data removed]",
      "text/plain": [
       "<Figure size 400x400 with 144 Axes>"
      ]
     },
     "metadata": {},
     "output_type": "display_data"
    }
   ],
   "source": [
    "plt.figure(figsize=(4, 4))\n",
    "image = x_train[np.random.choice(range(x_train.shape[0]))]\n",
    "plt.imshow(image.astype(\"uint8\"))\n",
    "plt.axis(\"off\")\n",
    "\n",
    "# Resize the image to the desired input size for the ViT model\n",
    "resized_image = tf.image.resize(tf.convert_to_tensor([image]), size=(image_size, image_size))\n",
    "\n",
    "# Create an instance of the Patches class and generate patches\n",
    "patches_layer = Patches(patch_size)\n",
    "patches = patches_layer(resized_image)\n",
    "\n",
    "# Display patch information\n",
    "print(f\"Image size: {image_size} x {image_size}\")\n",
    "print(f\"Patch size: {patch_size} x {patch_size}\")\n",
    "print(f\"Patches per image: {patches.shape[1]}\")\n",
    "print(f\"Elements per patch: {patches.shape[-1]}\")\n",
    "\n",
    "# Display the patches\n",
    "n = int(np.sqrt(patches.shape[1]))\n",
    "plt.figure(figsize=(4, 4))\n",
    "for i, patch in enumerate(patches[0]):\n",
    "    ax = plt.subplot(n, n, i + 1)\n",
    "    patch_img = tf.reshape(patch, (patch_size, patch_size, 3))\n",
    "    plt.imshow(patch_img.numpy().astype(\"uint8\"))\n",
    "    plt.axis(\"off\")\n",
    "\n",
    "plt.show()"
   ]
  },
  {
   "cell_type": "code",
   "execution_count": 8,
   "metadata": {
    "id": "nmQ0TJllNkdC"
   },
   "outputs": [],
   "source": [
    "class PatchEncoder(layers.Layer):\n",
    "    def __init__(self, num_patches, projection_dim):\n",
    "        super(PatchEncoder, self).__init__()\n",
    "        self.num_patches = num_patches\n",
    "        self.projections = layers.Dense(units=projection_dim)\n",
    "        self.position_embedding = layers.Embedding(\n",
    "            input_dim=num_patches, output_dim=projection_dim\n",
    "        )\n",
    "\n",
    "    def call(self, patch):\n",
    "        position = tf.range(start=0, limit=self.num_patches, delta=1)\n",
    "        # Correcting the attribute reference and using position instead of positions\n",
    "        encoded = self.projections(patch) + self.position_embedding(position)\n",
    "        return encoded"
   ]
  },
  {
   "cell_type": "code",
   "execution_count": 9,
   "metadata": {
    "id": "8mdYLd8cNric"
   },
   "outputs": [],
   "source": [
    "def create_vit_classification():\n",
    "    inputs = layers.Input(shape=input_shape)\n",
    "    augmented = data_augmentation(inputs)\n",
    "    patches = Patches(patch_size)(augmented)\n",
    "    encoded_patches = PatchEncoder(num_patches, projection_dim)(patches)\n",
    "\n",
    "    for _ in range(transformer_layers):\n",
    "        x1 = layers.LayerNormalization(epsilon=1e-6)(encoded_patches)\n",
    "        attention_output = layers.MultiHeadAttention(\n",
    "            num_heads=num_heads, key_dim=projection_dim, dropout=0.1\n",
    "        )(x1, x1)\n",
    "\n",
    "        x2 = layers.Add()([attention_output, encoded_patches])\n",
    "\n",
    "        x3 = layers.LayerNormalization(epsilon=1e-6)(x2)\n",
    "        x3 = mlp(x3, hidden_units=transformer_units, dropout_rate=0.1)\n",
    "\n",
    "        encoded_patches = layers.Add()([x3, x2])\n",
    "\n",
    "    representation = layers.LayerNormalization(epsilon=1e-6)(encoded_patches)\n",
    "    representation = layers.Flatten()(representation)\n",
    "    representation = layers.Dropout(0.5)(representation)\n",
    "\n",
    "    features = mlp(representation, hidden_units=mlp_head_units, dropout_rate=0.5)\n",
    "    logits = layers.Dense(num_classes)(features)\n",
    "    model = keras.Model(inputs=inputs, outputs=logits)\n",
    "\n",
    "    return model"
   ]
  },
  {
   "cell_type": "code",
   "execution_count": 10,
   "metadata": {
    "id": "YZdA2Ky2Nv-6"
   },
   "outputs": [],
   "source": [
    "def run_model(model):\n",
    "    optimizer = tf.keras.optimizers.Adam(\n",
    "        learning_rate=learning_rate, weight_decay=weight_decay\n",
    "    )\n",
    "\n",
    "    model.compile(\n",
    "        optimizer=optimizer,\n",
    "        loss=keras.losses.SparseCategoricalCrossentropy(from_logits=True),\n",
    "        metrics=[\n",
    "            keras.metrics.SparseCategoricalAccuracy(name=\"accuracy\"),\n",
    "            keras.metrics.SparseTopKCategoricalAccuracy(5, name=\"Top_5_accuracy\"),\n",
    "        ],\n",
    "    )\n",
    "\n",
    "    checkpoint_filepath = \"./tmp/checkpoint.weights.h5\"\n",
    "    checkpoint_callback = keras.callbacks.ModelCheckpoint(\n",
    "        checkpoint_filepath,\n",
    "        monitor=\"val_accuracy\",\n",
    "        save_best_only=True,\n",
    "        save_weights_only=True\n",
    "    )\n",
    "\n",
    "    history = model.fit(\n",
    "        x=x_train,\n",
    "        y=y_train,\n",
    "        batch_size=batch_size,\n",
    "        epochs=num_epochs,\n",
    "        validation_split=0.1,\n",
    "        callbacks=[checkpoint_callback]\n",
    "    )\n",
    "\n",
    "    model.load_weights(checkpoint_filepath)\n",
    "    _, accuracy, Top_5_accuracy = model.evaluate(x_test, y_test)\n",
    "    print(f\"Test accuracy : {round(accuracy * 100, 2)}%\")\n",
    "    print(f\"Top_5_accuracy : {round(Top_5_accuracy * 100, 2)}%\")"
   ]
  },
  {
   "cell_type": "code",
   "execution_count": 11,
   "metadata": {
    "colab": {
     "base_uri": "https://localhost:8080/"
    },
    "id": "8y2vR-F5NxVV",
    "outputId": "a119f84d-88f6-4d33-f4ac-ca2b4d69165e"
   },
   "outputs": [
    {
     "name": "stdout",
     "output_type": "stream",
     "text": [
      "Epoch 1/40\n",
      "\u001b[1m176/176\u001b[0m \u001b[32m━━━━━━━━━━━━━━━━━━━━\u001b[0m\u001b[37m\u001b[0m \u001b[1m104s\u001b[0m 405ms/step - Top_5_accuracy: 0.7435 - accuracy: 0.2518 - loss: 2.6615 - val_Top_5_accuracy: 0.9096 - val_accuracy: 0.4554 - val_loss: 1.5288\n",
      "Epoch 2/40\n",
      "\u001b[1m176/176\u001b[0m \u001b[32m━━━━━━━━━━━━━━━━━━━━\u001b[0m\u001b[37m\u001b[0m \u001b[1m80s\u001b[0m 421ms/step - Top_5_accuracy: 0.8904 - accuracy: 0.4249 - loss: 1.6095 - val_Top_5_accuracy: 0.9392 - val_accuracy: 0.5398 - val_loss: 1.2765\n",
      "Epoch 3/40\n",
      "\u001b[1m176/176\u001b[0m \u001b[32m━━━━━━━━━━━━━━━━━━━━\u001b[0m\u001b[37m\u001b[0m \u001b[1m74s\u001b[0m 419ms/step - Top_5_accuracy: 0.9233 - accuracy: 0.4879 - loss: 1.4195 - val_Top_5_accuracy: 0.9544 - val_accuracy: 0.5800 - val_loss: 1.1752\n",
      "Epoch 4/40\n",
      "\u001b[1m176/176\u001b[0m \u001b[32m━━━━━━━━━━━━━━━━━━━━\u001b[0m\u001b[37m\u001b[0m \u001b[1m84s\u001b[0m 432ms/step - Top_5_accuracy: 0.9362 - accuracy: 0.5251 - loss: 1.3229 - val_Top_5_accuracy: 0.9586 - val_accuracy: 0.6048 - val_loss: 1.1140\n",
      "Epoch 5/40\n",
      "\u001b[1m176/176\u001b[0m \u001b[32m━━━━━━━━━━━━━━━━━━━━\u001b[0m\u001b[37m\u001b[0m \u001b[1m92s\u001b[0m 492ms/step - Top_5_accuracy: 0.9452 - accuracy: 0.5579 - loss: 1.2472 - val_Top_5_accuracy: 0.9680 - val_accuracy: 0.6480 - val_loss: 1.0232\n",
      "Epoch 6/40\n",
      "\u001b[1m176/176\u001b[0m \u001b[32m━━━━━━━━━━━━━━━━━━━━\u001b[0m\u001b[37m\u001b[0m \u001b[1m135s\u001b[0m 454ms/step - Top_5_accuracy: 0.9512 - accuracy: 0.5854 - loss: 1.1672 - val_Top_5_accuracy: 0.9708 - val_accuracy: 0.6502 - val_loss: 1.0015\n",
      "Epoch 7/40\n",
      "\u001b[1m176/176\u001b[0m \u001b[32m━━━━━━━━━━━━━━━━━━━━\u001b[0m\u001b[37m\u001b[0m \u001b[1m80s\u001b[0m 454ms/step - Top_5_accuracy: 0.9552 - accuracy: 0.6070 - loss: 1.1180 - val_Top_5_accuracy: 0.9750 - val_accuracy: 0.6594 - val_loss: 0.9752\n",
      "Epoch 8/40\n",
      "\u001b[1m176/176\u001b[0m \u001b[32m━━━━━━━━━━━━━━━━━━━━\u001b[0m\u001b[37m\u001b[0m \u001b[1m82s\u001b[0m 454ms/step - Top_5_accuracy: 0.9590 - accuracy: 0.6186 - loss: 1.0840 - val_Top_5_accuracy: 0.9738 - val_accuracy: 0.6838 - val_loss: 0.9133\n",
      "Epoch 9/40\n",
      "\u001b[1m176/176\u001b[0m \u001b[32m━━━━━━━━━━━━━━━━━━━━\u001b[0m\u001b[37m\u001b[0m \u001b[1m111s\u001b[0m 620ms/step - Top_5_accuracy: 0.9637 - accuracy: 0.6317 - loss: 1.0422 - val_Top_5_accuracy: 0.9800 - val_accuracy: 0.6966 - val_loss: 0.8716\n",
      "Epoch 10/40\n",
      "\u001b[1m176/176\u001b[0m \u001b[32m━━━━━━━━━━━━━━━━━━━━\u001b[0m\u001b[37m\u001b[0m \u001b[1m108s\u001b[0m 428ms/step - Top_5_accuracy: 0.9659 - accuracy: 0.6509 - loss: 0.9991 - val_Top_5_accuracy: 0.9802 - val_accuracy: 0.6986 - val_loss: 0.8650\n",
      "Epoch 11/40\n",
      "\u001b[1m176/176\u001b[0m \u001b[32m━━━━━━━━━━━━━━━━━━━━\u001b[0m\u001b[37m\u001b[0m \u001b[1m82s\u001b[0m 429ms/step - Top_5_accuracy: 0.9664 - accuracy: 0.6556 - loss: 0.9880 - val_Top_5_accuracy: 0.9812 - val_accuracy: 0.7196 - val_loss: 0.8314\n",
      "Epoch 12/40\n",
      "\u001b[1m176/176\u001b[0m \u001b[32m━━━━━━━━━━━━━━━━━━━━\u001b[0m\u001b[37m\u001b[0m \u001b[1m76s\u001b[0m 431ms/step - Top_5_accuracy: 0.9690 - accuracy: 0.6702 - loss: 0.9406 - val_Top_5_accuracy: 0.9820 - val_accuracy: 0.7212 - val_loss: 0.8101\n",
      "Epoch 13/40\n",
      "\u001b[1m176/176\u001b[0m \u001b[32m━━━━━━━━━━━━━━━━━━━━\u001b[0m\u001b[37m\u001b[0m \u001b[1m76s\u001b[0m 430ms/step - Top_5_accuracy: 0.9730 - accuracy: 0.6818 - loss: 0.9132 - val_Top_5_accuracy: 0.9848 - val_accuracy: 0.7340 - val_loss: 0.7642\n",
      "Epoch 14/40\n",
      "\u001b[1m176/176\u001b[0m \u001b[32m━━━━━━━━━━━━━━━━━━━━\u001b[0m\u001b[37m\u001b[0m \u001b[1m82s\u001b[0m 430ms/step - Top_5_accuracy: 0.9741 - accuracy: 0.7005 - loss: 0.8639 - val_Top_5_accuracy: 0.9836 - val_accuracy: 0.7380 - val_loss: 0.7533\n",
      "Epoch 15/40\n",
      "\u001b[1m176/176\u001b[0m \u001b[32m━━━━━━━━━━━━━━━━━━━━\u001b[0m\u001b[37m\u001b[0m \u001b[1m82s\u001b[0m 430ms/step - Top_5_accuracy: 0.9761 - accuracy: 0.7047 - loss: 0.8438 - val_Top_5_accuracy: 0.9832 - val_accuracy: 0.7436 - val_loss: 0.7582\n",
      "Epoch 16/40\n",
      "\u001b[1m176/176\u001b[0m \u001b[32m━━━━━━━━━━━━━━━━━━━━\u001b[0m\u001b[37m\u001b[0m \u001b[1m76s\u001b[0m 397ms/step - Top_5_accuracy: 0.9761 - accuracy: 0.7082 - loss: 0.8395 - val_Top_5_accuracy: 0.9842 - val_accuracy: 0.7578 - val_loss: 0.7207\n",
      "Epoch 17/40\n",
      "\u001b[1m176/176\u001b[0m \u001b[32m━━━━━━━━━━━━━━━━━━━━\u001b[0m\u001b[37m\u001b[0m \u001b[1m88s\u001b[0m 431ms/step - Top_5_accuracy: 0.9764 - accuracy: 0.7117 - loss: 0.8266 - val_Top_5_accuracy: 0.9872 - val_accuracy: 0.7582 - val_loss: 0.6862\n",
      "Epoch 18/40\n",
      "\u001b[1m176/176\u001b[0m \u001b[32m━━━━━━━━━━━━━━━━━━━━\u001b[0m\u001b[37m\u001b[0m \u001b[1m82s\u001b[0m 431ms/step - Top_5_accuracy: 0.9814 - accuracy: 0.7311 - loss: 0.7774 - val_Top_5_accuracy: 0.9868 - val_accuracy: 0.7714 - val_loss: 0.6753\n",
      "Epoch 19/40\n",
      "\u001b[1m176/176\u001b[0m \u001b[32m━━━━━━━━━━━━━━━━━━━━\u001b[0m\u001b[37m\u001b[0m \u001b[1m75s\u001b[0m 389ms/step - Top_5_accuracy: 0.9787 - accuracy: 0.7296 - loss: 0.7775 - val_Top_5_accuracy: 0.9856 - val_accuracy: 0.7678 - val_loss: 0.6806\n",
      "Epoch 20/40\n",
      "\u001b[1m176/176\u001b[0m \u001b[32m━━━━━━━━━━━━━━━━━━━━\u001b[0m\u001b[37m\u001b[0m \u001b[1m92s\u001b[0m 449ms/step - Top_5_accuracy: 0.9802 - accuracy: 0.7392 - loss: 0.7499 - val_Top_5_accuracy: 0.9868 - val_accuracy: 0.7726 - val_loss: 0.6520\n",
      "Epoch 21/40\n",
      "\u001b[1m176/176\u001b[0m \u001b[32m━━━━━━━━━━━━━━━━━━━━\u001b[0m\u001b[37m\u001b[0m \u001b[1m69s\u001b[0m 389ms/step - Top_5_accuracy: 0.9823 - accuracy: 0.7436 - loss: 0.7322 - val_Top_5_accuracy: 0.9882 - val_accuracy: 0.7718 - val_loss: 0.6723\n",
      "Epoch 22/40\n",
      "\u001b[1m176/176\u001b[0m \u001b[32m━━━━━━━━━━━━━━━━━━━━\u001b[0m\u001b[37m\u001b[0m \u001b[1m78s\u001b[0m 444ms/step - Top_5_accuracy: 0.9834 - accuracy: 0.7522 - loss: 0.7163 - val_Top_5_accuracy: 0.9886 - val_accuracy: 0.7814 - val_loss: 0.6365\n",
      "Epoch 23/40\n",
      "\u001b[1m176/176\u001b[0m \u001b[32m━━━━━━━━━━━━━━━━━━━━\u001b[0m\u001b[37m\u001b[0m \u001b[1m72s\u001b[0m 388ms/step - Top_5_accuracy: 0.9836 - accuracy: 0.7551 - loss: 0.7031 - val_Top_5_accuracy: 0.9882 - val_accuracy: 0.7674 - val_loss: 0.6636\n",
      "Epoch 24/40\n",
      "\u001b[1m176/176\u001b[0m \u001b[32m━━━━━━━━━━━━━━━━━━━━\u001b[0m\u001b[37m\u001b[0m \u001b[1m82s\u001b[0m 390ms/step - Top_5_accuracy: 0.9856 - accuracy: 0.7605 - loss: 0.6891 - val_Top_5_accuracy: 0.9874 - val_accuracy: 0.7812 - val_loss: 0.6245\n",
      "Epoch 25/40\n",
      "\u001b[1m176/176\u001b[0m \u001b[32m━━━━━━━━━━━━━━━━━━━━\u001b[0m\u001b[37m\u001b[0m \u001b[1m89s\u001b[0m 433ms/step - Top_5_accuracy: 0.9854 - accuracy: 0.7699 - loss: 0.6654 - val_Top_5_accuracy: 0.9902 - val_accuracy: 0.7864 - val_loss: 0.6231\n",
      "Epoch 26/40\n",
      "\u001b[1m176/176\u001b[0m \u001b[32m━━━━━━━━━━━━━━━━━━━━\u001b[0m\u001b[37m\u001b[0m \u001b[1m82s\u001b[0m 433ms/step - Top_5_accuracy: 0.9877 - accuracy: 0.7707 - loss: 0.6539 - val_Top_5_accuracy: 0.9890 - val_accuracy: 0.7916 - val_loss: 0.6207\n",
      "Epoch 27/40\n",
      "\u001b[1m176/176\u001b[0m \u001b[32m━━━━━━━━━━━━━━━━━━━━\u001b[0m\u001b[37m\u001b[0m \u001b[1m75s\u001b[0m 391ms/step - Top_5_accuracy: 0.9870 - accuracy: 0.7818 - loss: 0.6371 - val_Top_5_accuracy: 0.9902 - val_accuracy: 0.7916 - val_loss: 0.5944\n",
      "Epoch 28/40\n",
      "\u001b[1m176/176\u001b[0m \u001b[32m━━━━━━━━━━━━━━━━━━━━\u001b[0m\u001b[37m\u001b[0m \u001b[1m93s\u001b[0m 455ms/step - Top_5_accuracy: 0.9875 - accuracy: 0.7827 - loss: 0.6235 - val_Top_5_accuracy: 0.9910 - val_accuracy: 0.7970 - val_loss: 0.5835\n",
      "Epoch 29/40\n",
      "\u001b[1m176/176\u001b[0m \u001b[32m━━━━━━━━━━━━━━━━━━━━\u001b[0m\u001b[37m\u001b[0m \u001b[1m76s\u001b[0m 432ms/step - Top_5_accuracy: 0.9886 - accuracy: 0.7869 - loss: 0.6075 - val_Top_5_accuracy: 0.9916 - val_accuracy: 0.7986 - val_loss: 0.5898\n",
      "Epoch 30/40\n",
      "\u001b[1m176/176\u001b[0m \u001b[32m━━━━━━━━━━━━━━━━━━━━\u001b[0m\u001b[37m\u001b[0m \u001b[1m68s\u001b[0m 387ms/step - Top_5_accuracy: 0.9883 - accuracy: 0.7937 - loss: 0.5980 - val_Top_5_accuracy: 0.9910 - val_accuracy: 0.7916 - val_loss: 0.5813\n",
      "Epoch 31/40\n",
      "\u001b[1m176/176\u001b[0m \u001b[32m━━━━━━━━━━━━━━━━━━━━\u001b[0m\u001b[37m\u001b[0m \u001b[1m90s\u001b[0m 431ms/step - Top_5_accuracy: 0.9900 - accuracy: 0.7930 - loss: 0.5859 - val_Top_5_accuracy: 0.9898 - val_accuracy: 0.8044 - val_loss: 0.5643\n",
      "Epoch 32/40\n",
      "\u001b[1m176/176\u001b[0m \u001b[32m━━━━━━━━━━━━━━━━━━━━\u001b[0m\u001b[37m\u001b[0m \u001b[1m82s\u001b[0m 431ms/step - Top_5_accuracy: 0.9897 - accuracy: 0.8007 - loss: 0.5691 - val_Top_5_accuracy: 0.9904 - val_accuracy: 0.8094 - val_loss: 0.5542\n",
      "Epoch 33/40\n",
      "\u001b[1m176/176\u001b[0m \u001b[32m━━━━━━━━━━━━━━━━━━━━\u001b[0m\u001b[37m\u001b[0m \u001b[1m75s\u001b[0m 390ms/step - Top_5_accuracy: 0.9903 - accuracy: 0.8032 - loss: 0.5574 - val_Top_5_accuracy: 0.9920 - val_accuracy: 0.8062 - val_loss: 0.5535\n",
      "Epoch 34/40\n",
      "\u001b[1m176/176\u001b[0m \u001b[32m━━━━━━━━━━━━━━━━━━━━\u001b[0m\u001b[37m\u001b[0m \u001b[1m82s\u001b[0m 391ms/step - Top_5_accuracy: 0.9911 - accuracy: 0.8092 - loss: 0.5473 - val_Top_5_accuracy: 0.9916 - val_accuracy: 0.7998 - val_loss: 0.5770\n",
      "Epoch 35/40\n",
      "\u001b[1m176/176\u001b[0m \u001b[32m━━━━━━━━━━━━━━━━━━━━\u001b[0m\u001b[37m\u001b[0m \u001b[1m89s\u001b[0m 433ms/step - Top_5_accuracy: 0.9919 - accuracy: 0.8101 - loss: 0.5428 - val_Top_5_accuracy: 0.9916 - val_accuracy: 0.8168 - val_loss: 0.5359\n",
      "Epoch 36/40\n",
      "\u001b[1m176/176\u001b[0m \u001b[32m━━━━━━━━━━━━━━━━━━━━\u001b[0m\u001b[37m\u001b[0m \u001b[1m73s\u001b[0m 381ms/step - Top_5_accuracy: 0.9925 - accuracy: 0.8140 - loss: 0.5256 - val_Top_5_accuracy: 0.9914 - val_accuracy: 0.8118 - val_loss: 0.5640\n",
      "Epoch 37/40\n",
      "\u001b[1m176/176\u001b[0m \u001b[32m━━━━━━━━━━━━━━━━━━━━\u001b[0m\u001b[37m\u001b[0m \u001b[1m81s\u001b[0m 377ms/step - Top_5_accuracy: 0.9918 - accuracy: 0.8206 - loss: 0.5095 - val_Top_5_accuracy: 0.9906 - val_accuracy: 0.8102 - val_loss: 0.5646\n",
      "Epoch 38/40\n",
      "\u001b[1m176/176\u001b[0m \u001b[32m━━━━━━━━━━━━━━━━━━━━\u001b[0m\u001b[37m\u001b[0m \u001b[1m82s\u001b[0m 376ms/step - Top_5_accuracy: 0.9929 - accuracy: 0.8263 - loss: 0.4908 - val_Top_5_accuracy: 0.9876 - val_accuracy: 0.7998 - val_loss: 0.5791\n",
      "Epoch 39/40\n",
      "\u001b[1m176/176\u001b[0m \u001b[32m━━━━━━━━━━━━━━━━━━━━\u001b[0m\u001b[37m\u001b[0m \u001b[1m82s\u001b[0m 376ms/step - Top_5_accuracy: 0.9931 - accuracy: 0.8289 - loss: 0.4896 - val_Top_5_accuracy: 0.9910 - val_accuracy: 0.8112 - val_loss: 0.5452\n",
      "Epoch 40/40\n",
      "\u001b[1m176/176\u001b[0m \u001b[32m━━━━━━━━━━━━━━━━━━━━\u001b[0m\u001b[37m\u001b[0m \u001b[1m82s\u001b[0m 375ms/step - Top_5_accuracy: 0.9940 - accuracy: 0.8285 - loss: 0.4891 - val_Top_5_accuracy: 0.9900 - val_accuracy: 0.8092 - val_loss: 0.5454\n",
      "\u001b[1m313/313\u001b[0m \u001b[32m━━━━━━━━━━━━━━━━━━━━\u001b[0m\u001b[37m\u001b[0m \u001b[1m5s\u001b[0m 17ms/step - Top_5_accuracy: 0.9879 - accuracy: 0.8034 - loss: 0.5658\n",
      "Test accuracy : 80.5%\n",
      "Top_5_accuracy : 99.03%\n"
     ]
    }
   ],
   "source": [
    "vit_classifier = create_vit_classification()\n",
    "history = run_model(vit_classifier)"
   ]
  },
  {
   "cell_type": "markdown",
   "metadata": {
    "id": "YIfj1fyOM3nz"
   },
   "source": []
  }
 ],
 "metadata": {
  "accelerator": "GPU",
  "colab": {
   "gpuType": "T4",
   "provenance": []
  },
  "kernelspec": {
   "display_name": "Python 3 (ipykernel)",
   "language": "python",
   "name": "python3"
  },
  "language_info": {
   "codemirror_mode": {
    "name": "ipython",
    "version": 3
   },
   "file_extension": ".py",
   "mimetype": "text/x-python",
   "name": "python",
   "nbconvert_exporter": "python",
   "pygments_lexer": "ipython3",
   "version": "3.10.14"
  }
 },
 "nbformat": 4,
 "nbformat_minor": 4
}
